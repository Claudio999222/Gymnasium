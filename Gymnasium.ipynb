{
  "nbformat": 4,
  "nbformat_minor": 0,
  "metadata": {
    "colab": {
      "provenance": []
    },
    "kernelspec": {
      "name": "python3",
      "display_name": "Python 3"
    },
    "language_info": {
      "name": "python"
    }
  },
  "cells": [
    {
      "cell_type": "code",
      "execution_count": 44,
      "metadata": {
        "id": "Hl6YM50e6FBW"
      },
      "outputs": [],
      "source": [
        "import gymnasium as gym\n",
        "import numpy as np\n",
        "from gymnasium.wrappers import FlattenObservation"
      ]
    },
    {
      "cell_type": "markdown",
      "source": [
        "#### Prendo un ambiente Lunar Lander dove dobbiamo far atterrare un astronave nella porzione di suolo indicato\n",
        "* effettuo un ovvesrazione dell'ambiente\n",
        "* effetuo un ciclo for su 200 iterazioni nella quale casualmente effettua delle azioni all 'inizio e se lo stato del gioco sara terminato o troncato resetta l'ambiente"
      ],
      "metadata": {
        "id": "J9vGL065HZVR"
      }
    },
    {
      "cell_type": "code",
      "source": [
        "env = gym.make('LunarLander-v2', render_mode='human')\n",
        "observation, info = env.reset()\n",
        "for _ in range(200):\n",
        "  action = env.action_space.sample()\n",
        "  observation, reward, terminated, truncated, info = env.step(action)\n",
        "\n",
        "  if terminated or truncated:\n",
        "    observation, info = env.reset()\n",
        "\n",
        "env.close"
      ],
      "metadata": {
        "colab": {
          "base_uri": "https://localhost:8080/"
        },
        "id": "qHOAxKv29YDy",
        "outputId": "6fe4de0a-1d42-4cdd-bc77-111d83d6088d"
      },
      "execution_count": 45,
      "outputs": [
        {
          "output_type": "execute_result",
          "data": {
            "text/plain": [
              "<bound method Wrapper.close of <TimeLimit<OrderEnforcing<PassiveEnvChecker<LunarLander<LunarLander-v2>>>>>>"
            ]
          },
          "metadata": {},
          "execution_count": 45
        }
      ]
    },
    {
      "cell_type": "markdown",
      "source": [
        "#### Lo spazio di osservazione e in formato box ed e descritto in 4 elementi (observation, reward, terminated, truncated)"
      ],
      "metadata": {
        "id": "gM6NB4NLKIft"
      }
    },
    {
      "cell_type": "code",
      "source": [
        "print(env.action_space)\n",
        "print(env.observation_space)"
      ],
      "metadata": {
        "colab": {
          "base_uri": "https://localhost:8080/"
        },
        "id": "kxyhUWjEFBJ_",
        "outputId": "bd715f30-81ba-4859-a8e1-6a277fc5562e"
      },
      "execution_count": 47,
      "outputs": [
        {
          "output_type": "stream",
          "name": "stdout",
          "text": [
            "Discrete(4)\n",
            "Box([-1.5       -1.5       -5.        -5.        -3.1415927 -5.\n",
            " -0.        -0.       ], [1.5       1.5       5.        5.        3.1415927 5.        1.\n",
            " 1.       ], (8,), float32)\n"
          ]
        }
      ]
    },
    {
      "cell_type": "markdown",
      "source": [
        "#### Attraverso l'ambiente CarRacing effettuo un wrapped sull osservazione in modo talle da trasformarlo in un vettore"
      ],
      "metadata": {
        "id": "pMeg_wHFKUk1"
      }
    },
    {
      "cell_type": "code",
      "source": [
        "env = gym.make('CarRacing-v2')\n",
        "print('Spazio dell ambiente originale: ', env.observation_space.shape)\n",
        "wrapped_env = FlattenObservation(env)\n",
        "print('Spazio dell ambiente dopo il wrapping: ', wrapped_env.observation_space.shape)"
      ],
      "metadata": {
        "colab": {
          "base_uri": "https://localhost:8080/"
        },
        "id": "5xCGWD8EFRLr",
        "outputId": "b7bfddf2-397f-4d72-bdb3-2e52f9edd81b"
      },
      "execution_count": 48,
      "outputs": [
        {
          "output_type": "stream",
          "name": "stdout",
          "text": [
            "Spazio dell ambiente originale:  (96, 96, 3)\n",
            "Spazio dell ambiente dopo il wrapping:  (27648,)\n"
          ]
        }
      ]
    },
    {
      "cell_type": "markdown",
      "source": [
        "#### Creo 3 ambienti li trasformo in un array e gli faccio effetture delle azioni contemporaneamente e mi stampo le osservazioni"
      ],
      "metadata": {
        "id": "xyUpDql2KoKe"
      }
    },
    {
      "cell_type": "code",
      "source": [
        " envs = gym.vector.make('CartPole-v1', num_envs=3)\n",
        " _ = envs.reset(seed=42)\n",
        " actions = np.array([1, 0, 1])\n",
        " observations, rewards, termination, truncation, infos = envs.step(actions)\n",
        " print(observations)"
      ],
      "metadata": {
        "colab": {
          "base_uri": "https://localhost:8080/"
        },
        "id": "Jr0EdMT5GaUw",
        "outputId": "1ea0cd7d-4083-43ab-f0ac-9f34364cac94"
      },
      "execution_count": 50,
      "outputs": [
        {
          "output_type": "stream",
          "name": "stderr",
          "text": [
            "/usr/local/lib/python3.10/dist-packages/gymnasium/vector/__init__.py:53: UserWarning: \u001b[33mWARN: `gymnasium.vector.make(...)` is deprecated and will be replaced by `gymnasium.make_vec(...)` in v1.0\u001b[0m\n",
            "  gym.logger.warn(\n"
          ]
        },
        {
          "output_type": "stream",
          "name": "stdout",
          "text": [
            "[[ 0.02727336  0.18847767  0.03625453 -0.26141977]\n",
            " [ 0.01431748 -0.24002443 -0.04731862  0.3110827 ]\n",
            " [-0.03822722  0.1710671  -0.00848456 -0.2487226 ]]\n"
          ]
        }
      ]
    },
    {
      "cell_type": "code",
      "source": [
        "print(rewards)\n",
        "print(termination)\n",
        "print(truncation)\n",
        "print(infos)"
      ],
      "metadata": {
        "colab": {
          "base_uri": "https://localhost:8080/"
        },
        "id": "gsI2MAx3IPMo",
        "outputId": "0a229306-11e0-451e-84fa-354eafeeffc3"
      },
      "execution_count": 52,
      "outputs": [
        {
          "output_type": "stream",
          "name": "stdout",
          "text": [
            "[1. 1. 1.]\n",
            "[False False False]\n",
            "[False False False]\n",
            "{}\n"
          ]
        }
      ]
    }
  ]
}